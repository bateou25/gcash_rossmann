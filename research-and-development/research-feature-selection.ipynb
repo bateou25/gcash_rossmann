{
 "cells": [
  {
   "cell_type": "markdown",
   "metadata": {},
   "source": [
    "## Machine Learning Pipeline - Feature Selection\n",
    "In the following notebooks, we will go through the implementation of each steps in the Machine Learning Pipeline: \n",
    "\n",
    "1. Data Analysis\n",
    "2. Feature Engineering\n",
    "3. **Feature Selection**\n",
    "4. Model Training\n",
    "5. Obtaining Predictions/Scoring\n",
    "\n",
    "### Rossman Store Sales Prediction\n",
    "The aim of the project is to build an end-to-end machine learning model to predict the sales of a given store and a set of inputs, including the promotions, competition, school and state holidays, seasonality, and locality."
   ]
  },
  {
   "cell_type": "markdown",
   "metadata": {},
   "source": []
  }
 ],
 "metadata": {
  "interpreter": {
   "hash": "c7acd5027bf3243a487910764b1be55d30a877f93460d58c1cb1cd35684d7394"
  },
  "kernelspec": {
   "display_name": "Python 3.8.12 ('test-ml-gcash-rossmann-research')",
   "language": "python",
   "name": "python3"
  },
  "language_info": {
   "name": "python",
   "version": "3.8.12"
  },
  "orig_nbformat": 4
 },
 "nbformat": 4,
 "nbformat_minor": 2
}
