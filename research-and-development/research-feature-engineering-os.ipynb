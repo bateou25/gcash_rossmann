{
 "cells": [
  {
   "cell_type": "code",
   "execution_count": null,
   "metadata": {},
   "outputs": [],
   "source": []
  }
 ],
 "metadata": {
  "interpreter": {
   "hash": "c7acd5027bf3243a487910764b1be55d30a877f93460d58c1cb1cd35684d7394"
  },
  "kernelspec": {
   "display_name": "Python 3.8.12 ('test-ml-gcash-rossmann-research')",
   "language": "python",
   "name": "python3"
  },
  "language_info": {
   "name": "python",
   "version": "3.8.12"
  },
  "orig_nbformat": 4
 },
 "nbformat": 4,
 "nbformat_minor": 2
}
