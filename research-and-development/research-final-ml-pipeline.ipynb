{
 "cells": [
  {
   "cell_type": "markdown",
   "metadata": {},
   "source": [
    "## Final Machine Learning Pipeline\n",
    "The pipeline features: \n",
    "\n",
    "* open source classes\n",
    "* in-house package classes\n",
    "* only uses the selected features\n",
    "\n",
    "### Rossman Store Sales Prediction\n",
    "The aim of the project is to build an end-to-end machine learning model to predict the sales of a given store and a set of inputs, including the promotions, competition, school and state holidays, seasonality, and locality."
   ]
  },
  {
   "cell_type": "markdown",
   "metadata": {},
   "source": []
  }
 ],
 "metadata": {
  "language_info": {
   "name": "python"
  },
  "orig_nbformat": 4
 },
 "nbformat": 4,
 "nbformat_minor": 2
}
